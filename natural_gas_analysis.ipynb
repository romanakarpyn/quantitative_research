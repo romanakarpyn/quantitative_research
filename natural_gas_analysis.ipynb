{
 "cells": [
  {
   "cell_type": "markdown",
   "id": "ddaa970e-69ac-46d9-88f4-c9cfd68a3dfc",
   "metadata": {},
   "source": [
    "**Task 1** \n",
    "***\n",
    "* Download the monthly natural gas price data. Each point in the data set corresponds to the purchase price of natural gas at the end of a month, from 31st October 2020 to 30th September 2024.\n",
    "* Analyze the data to estimate the purchase price of gas at any date in the past and extrapolate it for one year into the future.\n",
    "\n",
    "   \n",
    "Objective: The code should take a date as input and return a price estimate.\n",
    "\n",
    "***\n",
    "    \n",
    "Given the characteristics of the data (non-stationary, positive linear trend, yearly seasonality), I have two options:\n",
    "* Triple Exponential Smoothing (also known as Holt-Winter's model) - used to forecast data with seasonality and trend. Since I have monthly granularity, I need to forecast 12 data points, and this means this model will be appropriate since it is used for short to medium-term forecasts.\n",
    "* Sarima Model - is used to forecast data with seasonality and trend, and also because the statistical properties like mean and variance change over time.\n",
    "\n",
    "\n",
    "I will apply both to see the forecasting accuracy using RMSE (Root Mean Square Error).\n",
    "The lower this value, the better the model. Triple Exponential Smoothing performs better\n",
    "\n",
    "\n",
    "**Task 2**\n",
    "***\n",
    "\n",
    "Write a script that can be used to price the contract.\n",
    "You need to create a prototype pricing model.\n",
    "\n",
    "You should write a function that can use the data you created previously (output of the forecasting model) to price the contract. The client may want to choose multiple dates to inject and withdraw a set amount of gas, so your approach should generalize the explanation from before. Consider all the cash flows involved in the product.\n",
    "\n",
    "The input parameters that should be taken into account for pricing are:\n",
    "\n",
    "* Injection dates. \n",
    "* Withdrawal dates.\n",
    "* The prices at which the commodity can be purchased/sold on those dates.\n",
    "* The rate at which the gas can be injected/withdrawn.\n",
    "* The maximum volume that can be stored.\n",
    "* Storage costs.\n",
    "  \n",
    "Write a function that takes these inputs and gives back the value of the contract. You can assume there is no transport delay and that interest rates are zero. Market holidays, weekends, and bank holidays need not be accounted for. Test your code by selecting a few sample inputs.\n",
    "\n",
    "The pricing model is at the end of the notebook, please run all cells before using it.\n"
   ]
  },
  {
   "cell_type": "markdown",
   "id": "dfa9f439-d94a-4a25-b93e-56432d132c27",
   "metadata": {
    "tags": []
   },
   "source": [
    "### Import data and libraries"
   ]
  },
  {
   "cell_type": "code",
   "execution_count": null,
   "id": "4ab214ce-45cf-4984-9282-274b9d066a12",
   "metadata": {
    "tags": []
   },
   "outputs": [],
   "source": [
    "from datetime import datetime\n",
    "from math import sqrt\n",
    "\n",
    "import matplotlib as mpl\n",
    "import matplotlib.pyplot as plt\n",
    "import numpy as np\n",
    "import pandas as pd\n",
    "import plotly.graph_objects as go\n",
    "import scipy.stats as stats\n",
    "import statsmodels.api as sm\n",
    "from pmdarima.arima import auto_arima\n",
    "from pmdarima.arima.utils import ndiffs\n",
    "from sklearn.metrics import mean_squared_error\n",
    "from statsmodels.graphics.tsaplots import plot_acf, plot_pacf\n",
    "from statsmodels.tsa.holtwinters import ExponentialSmoothing\n",
    "from statsmodels.tsa.seasonal import seasonal_decompose\n",
    "from statsmodels.tsa.stattools import adfuller"
   ]
  },
  {
   "cell_type": "code",
   "execution_count": null,
   "id": "aafa3874-2dfa-43b2-ab8a-b04a2fd0a840",
   "metadata": {
    "tags": []
   },
   "outputs": [],
   "source": [
    "# Import data\n",
    "dataset = pd.read_csv(\"Data/Nat_Gas.csv\")\n",
    "dataset.head()"
   ]
  },
  {
   "cell_type": "code",
   "execution_count": null,
   "id": "83d94169-62ea-4028-8844-f469841e0756",
   "metadata": {
    "tags": []
   },
   "outputs": [],
   "source": [
    "# Check data types\n",
    "dataset.info()"
   ]
  },
  {
   "cell_type": "code",
   "execution_count": null,
   "id": "b4d4f90f-39b2-4c88-a0e4-3858c3fdc5c7",
   "metadata": {
    "tags": []
   },
   "outputs": [],
   "source": [
    "# Convert the 'Dates' column to a datetime type\n",
    "dataset[\"Dates\"] = pd.to_datetime(dataset[\"Dates\"], format=\"%m/%d/%y\")"
   ]
  },
  {
   "cell_type": "code",
   "execution_count": null,
   "id": "80e15646-6e79-414b-8a73-1172b39336ee",
   "metadata": {
    "tags": []
   },
   "outputs": [],
   "source": [
    "# Double check result\n",
    "dataset.info()"
   ]
  },
  {
   "cell_type": "code",
   "execution_count": null,
   "id": "ba78eb31-8f96-43d8-849a-68abe7e48880",
   "metadata": {},
   "outputs": [],
   "source": [
    "dataset.head()"
   ]
  },
  {
   "cell_type": "code",
   "execution_count": null,
   "id": "96c48850-db9b-4d26-951d-2114773dd796",
   "metadata": {
    "tags": []
   },
   "outputs": [],
   "source": [
    "# Set 'Dates' column as index\n",
    "dataset.set_index(\"Dates\", inplace=True)"
   ]
  },
  {
   "cell_type": "code",
   "execution_count": null,
   "id": "b78f29c9-e9ac-4c0b-b975-8f8473cb2cec",
   "metadata": {},
   "outputs": [],
   "source": [
    "# Since I have time series data I want to visualise them so see if there are any pattern, outliears and also\n",
    "# before doing a seasonall decomposing I want to understand whether the seasonality shows multiplicative or additive behavior"
   ]
  },
  {
   "cell_type": "code",
   "execution_count": null,
   "id": "5d6a33ed-9eb7-4797-bac1-c2a22f1bc4ff",
   "metadata": {},
   "outputs": [],
   "source": [
    "dataset.plot()"
   ]
  },
  {
   "cell_type": "code",
   "execution_count": null,
   "id": "8ecfc7e6-1e64-4728-868d-2c30db33afea",
   "metadata": {},
   "outputs": [],
   "source": [
    "# From the plot I can observe a positive linear trend with an addittive seasonality"
   ]
  },
  {
   "cell_type": "code",
   "execution_count": null,
   "id": "31b27ae0-4b0c-42b3-bde6-29894b550bfa",
   "metadata": {},
   "outputs": [],
   "source": [
    "# Ho have an idea of the data I want to see mean and variance of data to understand if the data is stationary.\n",
    "# Later I will run the Augmented Dickey-Fuller test to verify if the data are stationary"
   ]
  },
  {
   "cell_type": "code",
   "execution_count": null,
   "id": "01426c81-f66b-4087-82ff-2b36d941f055",
   "metadata": {},
   "outputs": [],
   "source": [
    "dataset.rolling(window=6).mean().plot()\n",
    "# Already from this plot I can see that the data is not stationary since the mean is varying over different time periods"
   ]
  },
  {
   "cell_type": "code",
   "execution_count": null,
   "id": "b947db6a-0b69-465e-8af6-f57c84ab7be4",
   "metadata": {},
   "outputs": [],
   "source": [
    "# I want to know more about the data so I'm going to display basic statistics.\n",
    "dataset.describe()"
   ]
  },
  {
   "cell_type": "code",
   "execution_count": null,
   "id": "87d44c55-4363-4a20-bc57-ee8a22f417c7",
   "metadata": {},
   "outputs": [],
   "source": [
    "dataset.skew()"
   ]
  },
  {
   "cell_type": "code",
   "execution_count": null,
   "id": "4137f24f-5278-44a9-93bf-b39fc57e0e15",
   "metadata": {},
   "outputs": [],
   "source": [
    "dataset.kurtosis()"
   ]
  },
  {
   "cell_type": "code",
   "execution_count": null,
   "id": "e882c0a1-b952-4165-afd4-d0fa78633595",
   "metadata": {},
   "outputs": [],
   "source": [
    "decomposed_gas_price = seasonal_decompose(dataset, period=13, model=\"additive\")\n",
    "\n",
    "fig, ax = plt.subplots(4, 1, figsize=(16, 10))\n",
    "ax[0].plot(decomposed_gas_price.observed)\n",
    "ax[0].set_ylabel(\"Observed\")\n",
    "ax[0].set_title(\"Decomposition for Multiplicative Model\")\n",
    "\n",
    "ax[1].plot(decomposed_gas_price.trend)\n",
    "ax[1].set_ylabel(\"Trend\")\n",
    "\n",
    "ax[2].plot(decomposed_gas_price.seasonal, label=\"Seasonal\")\n",
    "ax[2].set_ylabel(\"Seasonal\")\n",
    "\n",
    "ax[3].plot(decomposed_gas_price.resid, label=\"Residual\")\n",
    "ax[3].set_ylabel(\"Residual\")\n",
    "\n",
    "plt.legend()\n",
    "plt.show()"
   ]
  },
  {
   "cell_type": "code",
   "execution_count": null,
   "id": "0bd3bedd-ca07-4bf5-9c94-a51841d5df1c",
   "metadata": {},
   "outputs": [],
   "source": [
    "# Augmented Dickey-Fuller  unit root test\n",
    "def ADF_test(data):\n",
    "    \"\"\"\n",
    "    Perform Augmented Dickey-Fuller Test\n",
    "    The number of considered lags is automatically selected based\n",
    "    on the Akaike Information Criterion (AIC)\n",
    "    Ho = Null Hypothesis -> The data are not stationary\n",
    "    H1 = Alternate Hypotesis -> The data are stationary\n",
    "    \"\"\"\n",
    "    result = adfuller(data, autolag=\"AIC\")\n",
    "    print(f\"ADF Statistic:{result[0]}\")\n",
    "    print(f\"P-value: {result[1]}\")\n",
    "    print(\"Critical Values:\")\n",
    "    for x, y in result[4].items():\n",
    "        print(f\"{x}:{y}\")\n",
    "    if result[1] > 0.05:\n",
    "        print(\"We accept the Null Hypotesis. Data are not stationary!\")\n",
    "    else:\n",
    "        print(\"We accept the Alternate Hypotesis. Data are Stationary!\")"
   ]
  },
  {
   "cell_type": "code",
   "execution_count": null,
   "id": "ebb52858-350a-4a50-828a-b41a047b5ebc",
   "metadata": {},
   "outputs": [],
   "source": [
    "ADF_test(dataset)"
   ]
  },
  {
   "cell_type": "code",
   "execution_count": null,
   "id": "aa1813a7-2241-4541-a50e-7f985d021c83",
   "metadata": {},
   "outputs": [],
   "source": [
    "# Find the optimal number of differencing\n",
    "number_of_diff = ndiffs(dataset, test=\"adf\")\n",
    "print(f\"Number of differencing: {number_of_diff}\")"
   ]
  },
  {
   "cell_type": "code",
   "execution_count": null,
   "id": "03407a24-8f46-471e-ac1e-b2d629c8583a",
   "metadata": {},
   "outputs": [],
   "source": [
    "# I need to take the 12th difference for monthly data\n",
    "first_order_diff = dataset.diff(12).dropna()"
   ]
  },
  {
   "cell_type": "code",
   "execution_count": null,
   "id": "36223168-84c5-4f82-8652-5f6d959f2de0",
   "metadata": {},
   "outputs": [],
   "source": [
    "first_order_diff.plot()"
   ]
  },
  {
   "cell_type": "code",
   "execution_count": null,
   "id": "74ebc481-4992-4488-882b-e7bfb1eaaa72",
   "metadata": {},
   "outputs": [],
   "source": [
    "ADF_test(first_order_diff)"
   ]
  },
  {
   "cell_type": "code",
   "execution_count": null,
   "id": "3ebf4896-a7d9-42b5-95e6-061ff8c893f5",
   "metadata": {},
   "outputs": [],
   "source": [
    "fig, ax = plt.subplots(2, 1, figsize=(12, 8))\n",
    "plot_acf(first_order_diff, zero=False, ax=ax[0])\n",
    "plot_pacf(first_order_diff, zero=False, ax=ax[1])\n",
    "plt.show()"
   ]
  },
  {
   "cell_type": "code",
   "execution_count": null,
   "id": "4d9804a7-e59e-4218-8990-23cdb4dce46c",
   "metadata": {},
   "outputs": [],
   "source": [
    "# first_order_diff\n",
    "split = int(len(dataset) * 0.93)\n",
    "train_data = dataset.iloc[:split]\n",
    "test_data = dataset.iloc[split:]"
   ]
  },
  {
   "cell_type": "code",
   "execution_count": null,
   "id": "017acd20-882e-4a31-a501-e8fe99857ff1",
   "metadata": {},
   "outputs": [],
   "source": [
    "# Start_p -> the order of the auto-regressive (“AR”) model\n",
    "# Start_q-> the starting value of q, the order of the moving-average (“MA”) model.\n",
    "# m -> the number of periods in each season\n",
    "model = auto_arima(\n",
    "    train_data,\n",
    "    start_p=1,\n",
    "    start_q=1,\n",
    "    max_p=12,\n",
    "    max_q=12,\n",
    "    m=12,\n",
    "    start_P=0,\n",
    "    seasonal=True,\n",
    "    # d=1, D=1,\n",
    "    trace=True,\n",
    "    error_action=\"ignore\",\n",
    "    test=\"adf\",\n",
    "    information_criterion=\"aic\",\n",
    "    suppress_warnings=True,\n",
    ")"
   ]
  },
  {
   "cell_type": "code",
   "execution_count": null,
   "id": "91804331-4f9d-43b8-adbf-03dcf8b8257c",
   "metadata": {},
   "outputs": [],
   "source": [
    "model.summary()"
   ]
  },
  {
   "cell_type": "code",
   "execution_count": null,
   "id": "62990539-242e-47be-84db-43dcaa7af7c9",
   "metadata": {},
   "outputs": [],
   "source": [
    "# Residuals to check their normality\n",
    "output = model.plot_diagnostics(figsize=(16, 7))\n",
    "# correlogram tells us that there is no any pattern left in the residuals, so this is just noise"
   ]
  },
  {
   "cell_type": "code",
   "execution_count": null,
   "id": "7ab68615-c26f-44df-a443-72ec61c69f49",
   "metadata": {},
   "outputs": [],
   "source": [
    "test_data"
   ]
  },
  {
   "cell_type": "code",
   "execution_count": null,
   "id": "1641d4f2-31a3-4172-a595-b4526478a873",
   "metadata": {},
   "outputs": [],
   "source": [
    "auto_arima_fitted = model.fit(train_data)"
   ]
  },
  {
   "cell_type": "code",
   "execution_count": null,
   "id": "5b369e5e-22d7-41ef-ac27-7931544302e0",
   "metadata": {},
   "outputs": [],
   "source": [
    "auto_arima_prediction = auto_arima_fitted.predict(len(test_data) + 12).to_frame(\n",
    "    name=\"Prices\"\n",
    ")"
   ]
  },
  {
   "cell_type": "code",
   "execution_count": null,
   "id": "b958b354-0103-487d-b30a-7d1968c40a1a",
   "metadata": {},
   "outputs": [],
   "source": [
    "auto_arima_prediction"
   ]
  },
  {
   "cell_type": "code",
   "execution_count": null,
   "id": "2ea45a92-4980-4bdc-bd5c-b53b8b2d05cf",
   "metadata": {},
   "outputs": [],
   "source": [
    "auto_arima_rmse = sqrt(\n",
    "    mean_squared_error(test_data, auto_arima_prediction.iloc[: len(test_data), :])\n",
    ")\n",
    "print(\"RMSE: \", auto_arima_rmse)"
   ]
  },
  {
   "cell_type": "code",
   "execution_count": null,
   "id": "4ab600c6-3712-4667-8edf-389bc5f5db65",
   "metadata": {
    "tags": []
   },
   "outputs": [],
   "source": [
    "plt.figure(figsize=(16, 7))\n",
    "plt.plot(train_data, c=\"royalblue\")\n",
    "plt.plot(test_data, c=\"green\", ls=\"-\")\n",
    "plt.plot(auto_arima_prediction, c=\"grey\", ls=\"--\")\n",
    "plt.xlabel(\"Date\", size=20)\n",
    "plt.ylabel(\"Market Price\", size=20)\n",
    "plt.title(\"Market Price Prediction by Auto ARIMA\", size=20)\n",
    "plt.legend([\"Train Data\", \"Observed Data\", \"Predicted Data\"])\n",
    "plt.grid(linestyle=\"--\", c=\"grey\")"
   ]
  },
  {
   "cell_type": "markdown",
   "id": "f528fb76-5076-436c-84a1-ddf19454cc42",
   "metadata": {},
   "source": [
    "* Lets try triple exponencial smoothing"
   ]
  },
  {
   "cell_type": "code",
   "execution_count": null,
   "id": "e665e071-2c9e-43e1-a884-4ff97372db0f",
   "metadata": {},
   "outputs": [],
   "source": [
    "dataset.tail()"
   ]
  },
  {
   "cell_type": "code",
   "execution_count": null,
   "id": "8c74d0a3-09de-4a43-9687-925fe3fed9ba",
   "metadata": {},
   "outputs": [],
   "source": [
    "# Devide the dataset to train (data used to train the model) and test dataset (used to validate the model)\n",
    "split = int(len(dataset) * 0.80)\n",
    "train_data_es = dataset.iloc[:split]\n",
    "test_data_es = dataset.iloc[split:]"
   ]
  },
  {
   "cell_type": "code",
   "execution_count": null,
   "id": "918e3473-2b10-4026-ad97-f79f242bd492",
   "metadata": {},
   "outputs": [],
   "source": [
    "seasonal_periods = 12\n",
    "# Holt-Winter's model with exponential trend\n",
    "hw_1 = ExponentialSmoothing(\n",
    "    train_data_es,\n",
    "    trend=\"add\",\n",
    "    seasonal=\"add\",\n",
    "    seasonal_periods=seasonal_periods,\n",
    "    damped_trend=False,\n",
    "    freq=\"M\",\n",
    ").fit()"
   ]
  },
  {
   "cell_type": "code",
   "execution_count": null,
   "id": "e48b891c-bd2d-4a28-8a51-b04f116ce290",
   "metadata": {},
   "outputs": [],
   "source": [
    "# visualiss model's parameters\n",
    "hw_1.params"
   ]
  },
  {
   "cell_type": "code",
   "execution_count": null,
   "id": "e284ee85-4424-4c23-9d5a-5388258c65c5",
   "metadata": {},
   "outputs": [],
   "source": [
    "hw_forecast_1 = hw_1.forecast(len(test_data_es) + 12)"
   ]
  },
  {
   "cell_type": "code",
   "execution_count": null,
   "id": "ab14b2dc-c478-42d5-b1b6-d21338fb971b",
   "metadata": {},
   "outputs": [],
   "source": [
    "hw_forecast_1 = hw_forecast_1.to_frame(name=\"Prices\")"
   ]
  },
  {
   "cell_type": "code",
   "execution_count": null,
   "id": "1abfecca-2ad5-4de0-8005-5663f1c18ad3",
   "metadata": {},
   "outputs": [],
   "source": [
    "plt.figure(figsize=(16, 7))\n",
    "plt.plot(train_data_es, c=\"royalblue\")\n",
    "plt.plot(test_data_es, c=\"green\", ls=\"-\")\n",
    "plt.plot(hw_forecast_1, c=\"grey\", ls=\"--\")\n",
    "plt.xlabel(\"Date\", size=20)\n",
    "plt.ylabel(\"Market Price\", size=20)\n",
    "plt.title(\"Market Price Holt-Winter's Seasonal Smoothing\", size=20)\n",
    "plt.legend([\"Train Data\", \"Observed Data\", \"Predicted Data\"])\n",
    "plt.grid(linestyle=\"--\", c=\"grey\")"
   ]
  },
  {
   "cell_type": "code",
   "execution_count": null,
   "id": "c10b7dff-0844-4030-af53-04e7f6a61774",
   "metadata": {},
   "outputs": [],
   "source": [
    "rmse_triple_exp_smoothing = np.sqrt(\n",
    "    mean_squared_error(test_data_es, hw_forecast_1.iloc[:-12])\n",
    ")\n",
    "\n",
    "print(f\"Triple Exponential Smoothing RMSE: {rmse_triple_exp_smoothing}\")"
   ]
  },
  {
   "cell_type": "code",
   "execution_count": null,
   "id": "c81ff467-f5d5-4a38-b944-4dd328fccf5f",
   "metadata": {},
   "outputs": [],
   "source": [
    "df = pd.concat([dataset, hw_forecast_1.iloc[len(test_data) :, :]])"
   ]
  },
  {
   "cell_type": "code",
   "execution_count": null,
   "id": "09fe1d9e-80fc-4b6c-bb14-f471151db1ab",
   "metadata": {},
   "outputs": [],
   "source": [
    "hw_1.params"
   ]
  },
  {
   "cell_type": "code",
   "execution_count": null,
   "id": "03ebae68-f83d-420d-91db-e7fe5fcb191d",
   "metadata": {},
   "outputs": [],
   "source": [
    "alpha = hw_1.params[\"smoothing_level\"]\n",
    "beta = hw_1.params[\"smoothing_trend\"]\n",
    "gamma = hw_1.params[\"smoothing_seasonal\"]"
   ]
  },
  {
   "cell_type": "markdown",
   "id": "4dac3715-ae04-44e8-9cd5-bdadbc8944ad",
   "metadata": {},
   "source": [
    "## Enter date to get forecasted price"
   ]
  },
  {
   "cell_type": "code",
   "execution_count": null,
   "id": "df39a366-64ee-4144-8636-e4c10a2a6126",
   "metadata": {},
   "outputs": [],
   "source": [
    "def forecast_price():\n",
    "    user_date_input = input(\n",
    "        \"Forecast starts from '2024-10-31'.Enter a end month date in 'YYYY-MM-DD' format: \"\n",
    "    )\n",
    "    return df.loc[user_date_input, :]"
   ]
  },
  {
   "cell_type": "code",
   "execution_count": null,
   "id": "b5d712de-c431-462a-b1bf-4180422a3b35",
   "metadata": {},
   "outputs": [],
   "source": [
    "forecast_price()"
   ]
  },
  {
   "cell_type": "markdown",
   "id": "aebe0687-3150-4190-9207-4d75121d72e6",
   "metadata": {},
   "source": []
  },
  {
   "cell_type": "markdown",
   "id": "043173c3-be3f-461e-95d9-fcf99e1cfdd1",
   "metadata": {},
   "source": [
    "# Pricing Model"
   ]
  },
  {
   "cell_type": "code",
   "execution_count": null,
   "id": "16324cf5-5bb6-430d-9797-f0df90b772af",
   "metadata": {},
   "outputs": [],
   "source": [
    "def pricing_model(\n",
    "    *,\n",
    "    units=1000000,\n",
    "    purchase_date=\"2023-06-30\",\n",
    "    sell_date=\"2024-01-31\",\n",
    "    storage_cost_per_month_1m_units=20000,\n",
    "    max_capacity_units=3000000,\n",
    "    inj_withdr_cost_per_1mil_units=10000,\n",
    "    transport_cost_one_way=1000,\n",
    "    pricing_dataframe\n",
    "):\n",
    "    \"\"\"\n",
    "    Input: DataFrame with dates and prices for unit of commodity\n",
    "\n",
    "    Parameters:\n",
    "    units: number of good units purchased\n",
    "    purchase_date: purchase date\n",
    "    sell_date: sell date\n",
    "    storage_cost_per_month_1m_units: storage cost for 1 million units\n",
    "    max_capacity_units: max storage capacity\n",
    "    inj_withdr_cost_per_1mil_units: sum of injection and withdrawal cost per 1 million units\n",
    "    transport_cost_one_way: transport cost one way\n",
    "    Output: Value of a contract\n",
    "    \"\"\"\n",
    "\n",
    "    if units <= max_capacity_units:\n",
    "        number_of_months = int(\n",
    "            (\n",
    "                datetime.strptime(sell_date, \"%Y-%m-%d\").year\n",
    "                - datetime.strptime(purchase_date, \"%Y-%m-%d\").year\n",
    "            )\n",
    "            * 12\n",
    "            + (\n",
    "                datetime.strptime(sell_date, \"%Y-%m-%d\").month\n",
    "                - datetime.strptime(purchase_date, \"%Y-%m-%d\").month\n",
    "            )\n",
    "        )\n",
    "        # Dataset with Pricing\n",
    "        df = pricing_dataframe\n",
    "        # Total revenue\n",
    "        total_revenue = units * df.loc[sell_date, \"Prices\"]\n",
    "        # Total costs based on months\n",
    "\n",
    "        # Initial cost of purchase -> fixed costs\n",
    "        fixed_costs = (units * df.loc[purchase_date, \"Prices\"]) + (\n",
    "            transport_cost_one_way * 2\n",
    "        )\n",
    "        # Variable costs based on the number of units purchased\n",
    "        total_cost_for_storage = (\n",
    "            (storage_cost_per_month_1m_units / 1000000) * units * number_of_months\n",
    "        )\n",
    "        inj_withdr_cost = (inj_withdr_cost_per_1mil_units / 1000000) * units\n",
    "\n",
    "        variable_cost = total_cost_for_storage + inj_withdr_cost\n",
    "        total_cost = fixed_costs + variable_cost\n",
    "\n",
    "        revenue_loss = {\"Revenue\": 0.00, \"Loss\": 0.00}\n",
    "\n",
    "        if total_revenue > total_cost:\n",
    "            profit = total_revenue - total_cost\n",
    "            revenue_loss[\"Revenue\"] = profit\n",
    "        elif total_revenue < total_cost:\n",
    "            loss = total_revenue - total_cost\n",
    "            revenue_loss[\"Loss\"] = loss\n",
    "        elif total_revenue == total_cost:\n",
    "            neutral = total_revenue - total_cost\n",
    "        result = pd.DataFrame(revenue_loss, index=[1]).T.rename(columns={1: \"£ Value\"})\n",
    "\n",
    "    else:\n",
    "        result = \"Order is out of capacity!\"\n",
    "    return result"
   ]
  },
  {
   "cell_type": "code",
   "execution_count": null,
   "id": "08bc5ad1-df45-4676-86e6-c4fc8879b2b1",
   "metadata": {},
   "outputs": [],
   "source": [
    "pricing_model(pricing_dataframe=df)"
   ]
  },
  {
   "cell_type": "code",
   "execution_count": null,
   "id": "a42886f6-7819-4bfb-a080-d2e7922cda9c",
   "metadata": {},
   "outputs": [],
   "source": []
  }
 ],
 "metadata": {
  "kernelspec": {
   "display_name": "Python 3 (ipykernel)",
   "language": "python",
   "name": "python3"
  },
  "language_info": {
   "codemirror_mode": {
    "name": "ipython",
    "version": 3
   },
   "file_extension": ".py",
   "mimetype": "text/x-python",
   "name": "python",
   "nbconvert_exporter": "python",
   "pygments_lexer": "ipython3",
   "version": "3.12.1"
  }
 },
 "nbformat": 4,
 "nbformat_minor": 5
}

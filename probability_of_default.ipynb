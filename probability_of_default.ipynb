{
 "cells": [
  {
   "cell_type": "markdown",
   "id": "ce6ea97e-524f-48b8-ae6c-5fe45774d3bf",
   "metadata": {},
   "source": [
    "Task 3\n",
    "***\n",
    "Build a model using Python that will estimate the probability of default for a borrower\n",
    "The model needs to take as input the details of the borrower such as income, total loans outstanding, credit score and others. "
   ]
  },
  {
   "cell_type": "code",
   "execution_count": null,
   "id": "c98199ac-976c-4e01-84df-1407e83f292c",
   "metadata": {},
   "outputs": [],
   "source": [
    "# Importing required modules\n",
    "from datetime import datetime\n",
    "\n",
    "import numpy as np\n",
    "import pandas as pd\n",
    "from sklearn.linear_model import LogisticRegression\n",
    "from sklearn.metrics import accuracy_score, classification_report, confusion_matrix\n",
    "from sklearn.model_selection import train_test_split\n",
    "from sklearn.preprocessing import MinMaxScaler"
   ]
  },
  {
   "cell_type": "code",
   "execution_count": null,
   "id": "c3d47b1a-f0c0-4706-8037-7df5e0687d9c",
   "metadata": {},
   "outputs": [],
   "source": [
    "# Load the data\n",
    "df = pd.read_csv(\"Data/Loan_Data.csv\")"
   ]
  },
  {
   "cell_type": "code",
   "execution_count": null,
   "id": "28ec361f-c790-492d-8f12-7f246acb188a",
   "metadata": {},
   "outputs": [],
   "source": [
    "# Visualise the data\n",
    "df.head()"
   ]
  },
  {
   "cell_type": "code",
   "execution_count": null,
   "id": "e032ffec-1d8f-4e49-ab8c-4c6059dd7286",
   "metadata": {},
   "outputs": [],
   "source": [
    "# Data Preprocessing\n",
    "# Clean and preprocess the data, handling missing values and encoding categorical variables\n",
    "df.info()"
   ]
  },
  {
   "cell_type": "code",
   "execution_count": null,
   "id": "c84177b4-e80d-4cb5-86ed-ff8200164bda",
   "metadata": {},
   "outputs": [],
   "source": [
    "# Change datatype of customer id column\n",
    "df[\"customer_id\"] = df[\"customer_id\"].astype(\"str\")"
   ]
  },
  {
   "cell_type": "code",
   "execution_count": null,
   "id": "861225b8-1daa-4a54-a6b3-45488d02bb13",
   "metadata": {},
   "outputs": [],
   "source": [
    "df.info()"
   ]
  },
  {
   "cell_type": "code",
   "execution_count": null,
   "id": "08b40a4b-b780-4e85-b1e5-e876bdae870a",
   "metadata": {},
   "outputs": [],
   "source": [
    "# Generate descriptive statistics\n",
    "df.describe()"
   ]
  },
  {
   "cell_type": "code",
   "execution_count": null,
   "id": "596c675e-fe16-41cb-857a-b95c1a5253a2",
   "metadata": {},
   "outputs": [],
   "source": [
    "df.head()"
   ]
  },
  {
   "cell_type": "code",
   "execution_count": null,
   "id": "2bf349ee-82ed-4242-b8ce-63507c016aa5",
   "metadata": {},
   "outputs": [],
   "source": [
    "# Feature scaling is used to\n",
    "# Standardize or normalize numerical features to ensure that they are on a similar scale\n",
    "# we will going to scale fico_score"
   ]
  },
  {
   "cell_type": "code",
   "execution_count": null,
   "id": "388f1741-671d-4a5a-8771-103dc388583e",
   "metadata": {},
   "outputs": [],
   "source": [
    "X = df.drop([\"default\", \"customer_id\"], axis=1)\n",
    "y = df[\"default\"]\n",
    "# Split the data into training and testing sets\n",
    "X_train, X_test, y_train, y_test = train_test_split(\n",
    "    X, y, test_size=0.2, random_state=42\n",
    ")"
   ]
  },
  {
   "cell_type": "code",
   "execution_count": null,
   "id": "b7492490-06a6-415c-bc02-b274ed3deae0",
   "metadata": {},
   "outputs": [],
   "source": [
    "scaler = MinMaxScaler()"
   ]
  },
  {
   "cell_type": "code",
   "execution_count": null,
   "id": "30326281-d299-4f94-b581-fd9f7142adc5",
   "metadata": {},
   "outputs": [],
   "source": [
    "X_train[\"fico_score\"] = scaler.fit_transform(X_train[[\"fico_score\"]].values)\n",
    "X_test[\"fico_score\"] = scaler.fit_transform(X_test[[\"fico_score\"]].values)"
   ]
  },
  {
   "cell_type": "code",
   "execution_count": null,
   "id": "851d906b-d592-4839-b476-dacc824250de",
   "metadata": {},
   "outputs": [],
   "source": [
    "# Initialize and train the logistic regression model\n",
    "model = LogisticRegression(random_state=42)\n",
    "model.fit(X_train, y_train)"
   ]
  },
  {
   "cell_type": "code",
   "execution_count": null,
   "id": "6dbbf77f-cced-4afd-bb7e-08c56c9082f8",
   "metadata": {},
   "outputs": [],
   "source": [
    "# Make predictions on the test set\n",
    "y_pred = model.predict(X_test)"
   ]
  },
  {
   "cell_type": "code",
   "execution_count": null,
   "id": "e27ae032-47a9-413b-85c0-849c24587e53",
   "metadata": {},
   "outputs": [],
   "source": [
    "# Evaluate the model\n",
    "accuracy = accuracy_score(y_test, y_pred)\n",
    "conf_matrix = confusion_matrix(y_test, y_pred)\n",
    "classification_rep = classification_report(y_test, y_pred)"
   ]
  },
  {
   "cell_type": "code",
   "execution_count": null,
   "id": "7f4f2125-ab43-45bc-b8ed-e6f28f8f946d",
   "metadata": {},
   "outputs": [],
   "source": [
    "# Print the evaluation metrics\n",
    "print(f\"Accuracy: {accuracy:.2f}\")\n",
    "print(\"\\nConfusion Matrix:\")\n",
    "print(conf_matrix)\n",
    "print(\"\\nClassification Report:\")\n",
    "print(classification_rep)"
   ]
  },
  {
   "cell_type": "code",
   "execution_count": null,
   "id": "c9e3e970-ebdf-4ddb-b1e5-892c354373ec",
   "metadata": {},
   "outputs": [],
   "source": [
    "# Extract coefficients and intercept\n",
    "coefficients = model.coef_[0]\n",
    "print(\"Coefficients: \", coefficients)\n",
    "intercept = model.intercept_[0]\n",
    "print(\"Intercept: \", intercept)"
   ]
  },
  {
   "cell_type": "code",
   "execution_count": null,
   "id": "bcd110fe-7533-4250-af1f-ad009111fab1",
   "metadata": {},
   "outputs": [],
   "source": [
    "def scaled(score):\n",
    "    \"\"\"\n",
    "    Performs max min normalization\n",
    "    \"\"\"\n",
    "    scaled_point = (score - df[\"fico_score\"].min()) / (\n",
    "        df[\"fico_score\"].max() - df[\"fico_score\"].min()\n",
    "    )\n",
    "    return scaled_point"
   ]
  },
  {
   "cell_type": "code",
   "execution_count": null,
   "id": "3d989e11-6d9b-452c-a8d9-990a9a3b6ecd",
   "metadata": {},
   "outputs": [],
   "source": [
    "# Define the logistic function\n",
    "def logistic_function(features):\n",
    "    \"\"\"\n",
    "    This function calculates the probability of default of a loan given the features\n",
    "    \"\"\"\n",
    "    features[-1] = scaled(features[-1])\n",
    "    # Calculate the linear combination of features and coefficients\n",
    "    linear_combination = np.dot(features, coefficients) + intercept\n",
    "    # Apply the logistic function (sigmoid)\n",
    "    return 1 / (1 + np.exp(-linear_combination))"
   ]
  },
  {
   "cell_type": "code",
   "execution_count": null,
   "id": "33fa046d-4e78-48ea-be75-36c1166ebcbc",
   "metadata": {},
   "outputs": [],
   "source": [
    "def expected_loss_on_loan(\n",
    "    credit_lines_outstanding,\n",
    "    loan_amt_outstanding,\n",
    "    total_debt_outstanding,\n",
    "    income,\n",
    "    years_employed,\n",
    "    fico_score,\n",
    "    recovery_rate=0.10,\n",
    "):\n",
    "    \"\"\"\n",
    "    Takes in the properties of a loan and outputs the expected loss (£)\n",
    "\n",
    "    Parameters:\n",
    "    - credit_lines_outstanding: the number of active credit lines that a borrower has\n",
    "    - loan_amt_outstanding: the total amount of money that a borrower still owes on their outstanding loans\n",
    "    - total_debt_outstanding:  the total debt outstanding of a borrower\n",
    "    - income: borrower's income\n",
    "    - years_employed: number of years the borrower was employed\n",
    "    - fico_score: credit score of borrower\n",
    "\n",
    "    Returns:\n",
    "    - expected_loss: expected loss (£) in case of default\n",
    "    \"\"\"\n",
    "    features = [\n",
    "        credit_lines_outstanding,\n",
    "        loan_amt_outstanding,\n",
    "        total_debt_outstanding,\n",
    "        income,\n",
    "        years_employed,\n",
    "        fico_score,\n",
    "    ]\n",
    "    probability_of_default = logistic_function(features)\n",
    "    expected_loss = round((probability_of_default - recovery_rate) * features[1], 1)\n",
    "    if expected_loss > 0:\n",
    "        expected_loss = expected_loss\n",
    "    if expected_loss <= 0:\n",
    "        expected_loss = f\"We anticipate Probability of Default equal to {round(probability_of_default*100, 0)}% on this loan.\"\n",
    "    return expected_loss"
   ]
  },
  {
   "cell_type": "code",
   "execution_count": null,
   "id": "73d67b64-519c-4672-b170-709bc3605b01",
   "metadata": {},
   "outputs": [],
   "source": [
    "expected_loss_on_loan(0, 5221, 3915, 78039, 5, 605, 0.10)"
   ]
  },
  {
   "cell_type": "code",
   "execution_count": null,
   "id": "61888c01-15dc-4043-8754-a6324522cef2",
   "metadata": {},
   "outputs": [],
   "source": [
    "expected_loss_on_loan(5, 1959, 8229, 26648, 2, 572, 0.10)"
   ]
  },
  {
   "cell_type": "code",
   "execution_count": null,
   "id": "0f5a0b10-1153-46fb-8c31-946632aa2178",
   "metadata": {},
   "outputs": [],
   "source": []
  }
 ],
 "metadata": {
  "kernelspec": {
   "display_name": "Python 3 (ipykernel)",
   "language": "python",
   "name": "python3"
  },
  "language_info": {
   "codemirror_mode": {
    "name": "ipython",
    "version": 3
   },
   "file_extension": ".py",
   "mimetype": "text/x-python",
   "name": "python",
   "nbconvert_exporter": "python",
   "pygments_lexer": "ipython3",
   "version": "3.12.1"
  }
 },
 "nbformat": 4,
 "nbformat_minor": 5
}
